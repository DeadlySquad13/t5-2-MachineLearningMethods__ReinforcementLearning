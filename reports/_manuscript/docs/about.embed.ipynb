{
 "cells": [
  {
   "cell_type": "markdown",
   "metadata": {},
   "source": [
    "# About\n",
    "\n",
    "About this site"
   ],
   "id": "1b2e4e25-746d-4269-a826-756506d6b461"
  }
 ],
 "nbformat": 4,
 "nbformat_minor": 5,
 "metadata": {}
}
